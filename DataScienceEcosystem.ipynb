{
 "cells": [
  {
   "cell_type": "markdown",
   "id": "f47c68a4-3eb4-4c9d-b33a-8b9cd27d5f04",
   "metadata": {},
   "source": [
    "# Data Science Tools and Ecosystem"
   ]
  },
  {
   "cell_type": "markdown",
   "id": "0401793a-98c1-4049-a6f3-37b9cecfb218",
   "metadata": {},
   "source": [
    "In this notebook, Data Science Tools and Ecosystem are summarized."
   ]
  },
  {
   "cell_type": "markdown",
   "id": "a6ca1e7c-f951-4874-9da2-2ecd75a8cba0",
   "metadata": {},
   "source": [
    "**Objectives:**\n",
    "* List popular languages for Data Science\n",
    "* List common data science libraries\n",
    "* List common data science tools\n",
    "* Show how to use Jupyter notebook"
   ]
  },
  {
   "cell_type": "markdown",
   "id": "b9b8feed-8735-4cb4-8302-540ef29260bd",
   "metadata": {},
   "source": [
    "Some of the popular languages that Data Scientists use are:\n",
    "1. Python\n",
    "2. R\n",
    "3. SQL"
   ]
  },
  {
   "cell_type": "markdown",
   "id": "3772501f-1766-40cd-b42c-cf6397ed7235",
   "metadata": {},
   "source": [
    "Some of the commonly used libraries used by Data Scientists include:\n",
    "1. Pandas\n",
    "2. Matplotlib\n",
    "3. Numpy\n",
    "4. Scikit-learn"
   ]
  },
  {
   "cell_type": "markdown",
   "id": "abb42577-c5de-4ae7-8988-46c4325fe43c",
   "metadata": {},
   "source": [
    "|Data Science Tools|\n",
    "|:--|\n",
    "|Jupyter Notebook|\n",
    "|RStudio|\n",
    "|VS Code|\n",
    "|Google Colab|"
   ]
  },
  {
   "cell_type": "markdown",
   "id": "971576ed-023b-4d44-a381-848f02124a7e",
   "metadata": {},
   "source": [
    "### Below are a few examples of evaluating arithmetic expressions in Python.\n"
   ]
  },
  {
   "cell_type": "code",
   "execution_count": 1,
   "id": "0d636660-368a-4de1-b2dd-db6f3c2d00f0",
   "metadata": {
    "tags": []
   },
   "outputs": [
    {
     "data": {
      "text/plain": [
       "17"
      ]
     },
     "execution_count": 1,
     "metadata": {},
     "output_type": "execute_result"
    }
   ],
   "source": [
    "# This a simple arithmetic expression to mutiply then add integers\n",
    "(3*4)+5"
   ]
  },
  {
   "cell_type": "code",
   "execution_count": 2,
   "id": "5d2ce2fa-d4d9-4add-bfd3-95b88b8c209d",
   "metadata": {
    "tags": []
   },
   "outputs": [
    {
     "data": {
      "text/plain": [
       "3.3333333333333335"
      ]
     },
     "execution_count": 2,
     "metadata": {},
     "output_type": "execute_result"
    }
   ],
   "source": [
    "# This will convert 200 minutes to hours by diving by 60.\n",
    "200 / 60"
   ]
  },
  {
   "cell_type": "markdown",
   "id": "c7b648ef-645f-4ea9-9c82-42156f9404d4",
   "metadata": {},
   "source": [
    "## Author \n",
    "Ahmad Mostafa"
   ]
  },
  {
   "cell_type": "code",
   "execution_count": null,
   "id": "947cd64f-d31e-4afd-b013-836f51240f4f",
   "metadata": {},
   "outputs": [],
   "source": []
  }
 ],
 "metadata": {
  "kernelspec": {
   "display_name": "Python",
   "language": "python",
   "name": "conda-env-python-py"
  },
  "language_info": {
   "codemirror_mode": {
    "name": "ipython",
    "version": 3
   },
   "file_extension": ".py",
   "mimetype": "text/x-python",
   "name": "python",
   "nbconvert_exporter": "python",
   "pygments_lexer": "ipython3",
   "version": "3.7.12"
  }
 },
 "nbformat": 4,
 "nbformat_minor": 5
}
